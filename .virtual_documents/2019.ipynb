from bokeh.plotting import figure, show
from bokeh.colors import named
from bokeh.models import ColumnDataSource
from bokeh.models.tools import HoverTool
import bokeh.io
import bokeh.plotting as bp
from math import pi
from bokeh.transform import dodge
from collections import Counter
import pandas as pd
import numpy as np
from bokeh.palettes import Category20c
from bokeh.transform import cumsum
import geopandas
from bokeh.plotting import figure

import warnings
warnings.filterwarnings("ignore")



# pip install geopandas





data = pd.read_csv('RIMResultatElection2019.csv', sep=";")
gdf = geopandas.read_file("shape/mrt_admbnda_adm2_gov_20200801.shp")
gdf.head()


data.tail()


data.columns


data_2019= data.copy











election=data[['Wilaya','nbSuffrage','nbVoix','Moughataa','Candidat', 'CodeWilaya']]
election['prenom']=election['Candidat'].str.split("(", n=2, expand=True)[1]
election['prenom'] = election['prenom'].str.rstrip(')')
election.head()











#election['CodeWilaya'] = election['CodeWilaya'].apply(lambda x: 'MR' + str(x))
election.head()


data['Moughataa'] = data['Moughataa'].str.normalize('NFKD').str.encode('ascii', errors='ignore').str.decode('utf-8')
data['Moughataa']=data['Moughataa'].str.lower()


grouped_cand = election.groupby(['prenom', 'Wilaya'], as_index=False).agg({
    'nbSuffrage': 'sum',
    'nbVoix': 'sum',
    'Moughataa': 'first',
    'Candidat': 'first',
    'CodeWilaya': 'first'
})


grouped_cand.head()



grouped_cand['percent_votes'] = (grouped_cand['nbVoix'] / grouped_cand['nbSuffrage']) * 100
grouped_cand['percent_votes'] = grouped_cand['percent_votes'].round(2)

wilaya_vote_percent = grouped_cand.pivot(index='Wilaya', columns='prenom', values='percent_votes')
wilaya_vote_percent.columns.name = None




wilaya_vote = grouped_cand.pivot(index='Wilaya', columns='prenom', values='nbVoix')
wilaya_vote









bokeh.io.reset_output()
bokeh.io.output_notebook()

source = ColumnDataSource(wilaya_vote)
p1= figure(x_range=source.data['Wilaya'].tolist(),toolbar_location=None,tools="",title='wilaya_vote',width=750)

p1.vbar(x=dodge('Wilaya', -0.25, range=p1.x_range), top='Biram', width=0.1, source=source,color="#c9d9d3", legend_label="Biram")
p1.vbar(x=dodge('Wilaya',  -0.15, range=p1.x_range), top='Boubacar', width=0.1, source=source,color="#008000", legend_label='Boubacar')
p1.vbar(x=dodge('Wilaya',  -0.05, range=p1.x_range), top='Ghazouani', width=0.1, source=source,color="#6495ED", legend_label='Ghazouani')
p1.vbar(x=dodge('Wilaya',  0.05,  range=p1.x_range), top='Kane', width=0.1, source=source,color="#3CB371", legend_label="Kane")
p1.vbar(x=dodge('Wilaya',  0.15, range=p1.x_range), top='Maouloud', width=0.1, source=source,color="#FFA500", legend_label='Maouloud')
p1.vbar(x=dodge('Wilaya',  0.25, range=p1.x_range), top='Wavi', width=0.1, source=source,color=named.black, legend_label='Wavi')


p1.legend.label_text_font_size = "6pt"
p1.legend.location = "top_right"
p1.legend.orientation = "horizontal"
p1.legend.border_line_color = "#c9d9d3"
p1.xaxis.major_label_orientation = pi/3
p1.xgrid.grid_line_color = None
p1.ygrid.grid_line_color = '#c9d9d3'





from bokeh.models import ColumnDataSource
from bokeh.palettes import Spectral6
from bokeh.layouts import gridplot

candidates = ['Biram', 'Boubacar', 'Ghazouani', 'Kane', 'Maouloud', 'Wavi']
colors = ['#FFFF00', '#00FF00', '#0000FF', '#FF00FF', '#00FFFF', '#FF0000']


figures = []
for i, candidate in enumerate(candidates):
    wilaya_vote_sorted = wilaya_vote.sort_values(by=candidate,ascending=True)
    source = ColumnDataSource(data=dict(wilaya=wilaya_vote_sorted.index.tolist(), candidate=wilaya_vote_sorted[candidate]))
    p = figure(y_range=wilaya_vote_sorted.index.tolist(), width=450, title=f"Number of votes for {candidate} by Wilaya",
               toolbar_location=None, tools="")
    p.hbar(y='wilaya', right='candidate', height=0.3, source=source, 
           line_color='white', fill_color=colors[i])
    p.ygrid.grid_line_color = None
    p.x_range.start = 0
    p.x_range.end = wilaya_vote_sorted[candidate].max()
    p.legend.orientation = "vertical"
    p.legend.location = "top_left"
    figures.append(p)
grid = gridplot([figures[i:i+2] for i in range(0, len(figures), 2)], toolbar_location=None)

show(grid)


Map_of_moughataa = {
"akjoujt":"MR0901",
"aleg":"MR0301",
"amourj":"MR0701",
"aoujeft":"MR0101",
"arafat":"MR1001",
"atar":"MR0102",
"aioun":"MR0801",
"bababe":"MR0302",
"barkeol":"MR0201",
"bassiknou":"MR0702",
"bennechab":"MR0902",
"bir moghrein":"MR1301",
"boghe":"MR0303",
"boumdeid":"MR0202",
"boutilimit":"MR1201",
"chami":"MR0401",
"chinguitti":"MR0103",
"dar naim":"MR1002",
"djiguenni":"MR0703",
"el mina":"MR1003",
"f'deirick":"MR1302",
"ghabou":"MR0601",
"guerou":"MR0203",
"kankoussa":"MR0204",
"kaedi":"MR0501",
"keur macene":"MR1202",
"kiffa":"MR0205",
"koubenni":"MR0802",
"ksar":"MR1004",
"m'bagne":"MR0305",
"m'bout":"MR0503",
"maghama":"MR0502",
"magtalahjar":"MR0304",
"mederdra":"MR1203",
"monguel":"MR0504",
"moudjeria":"MR1101",
"n'beiket lahwach":"MR0705",
"nouadhibou":"MR0402",
"nema":"MR0704",
"ouad naga":"MR1204",
"ouadane":"MR0104",
"oualata":"MR0706",
"ould yenge":"MR0602",
"r'kiz":"MR1205",
"riyad":"MR1005",
"rosso":"MR1206",
"sebkha":"MR1006",
"selibaby":"MR0603",
"tamcheket":"MR0803",
"tevragh zeina":"MR1007",
"teyaret":"MR1008",
"tichit":"MR1102",
"tidjikja":"MR1103",
"timbedra":"MR0707",
"tintane":"MR0804",
"toujounine":"MR1009",
"zoueratt":"MR1303"}



grouped_cand_M = election.groupby(['prenom','Moughataa']).sum().reset_index()
grouped_cand_M['percent_votes'] = (grouped_cand_M['nbVoix'] / grouped_cand_M['nbSuffrage']) * 100
grouped_cand_M['percent_votes'] = grouped_cand_M['percent_votes'].round(4)

# moughataa_vote_percent = grouped_cand_M.pivot(index='Moughataa', columns='prenom', values='percent_votes')
# moughataa_vote_percent.columns.name = None

moughataa_vote = grouped_cand_M.pivot(index='Moughataa', columns='prenom', values='percent_votes')
new_cand=moughataa_vote.idxmax(axis=1)
moughataa_vote['President']=new_cand
moughataa_vote.head()


data['Moughataa'] = data['Moughataa'].str.normalize('NFKD').str.encode('ascii',
                                                                                   errors='ignore').str.decode('utf-8')
data['Moughataa']=data['Moughataa'].str.lower()



code=data['Moughataa'].map(Map_of_moughataa)


data['ADM2_PCODE']=code
data['ADM2_PCODE']



moughataa_vote['ADM2_PCODE'] = data['ADM2_PCODE']
moughataa_vote.head()




grouped_cand_M['Moughataa']=grouped_cand_M.index
grouped_cand_M['ADM2_PCODE']=code



mapmauritnia = gdf.merge(moughataa_vote, on='ADM2_PCODE')
mapmauritnia.shape


import matplotlib.pyplot as plt
import seaborn as sns

# Set plot style
sns.set(style="whitegrid")

# Visualization 1: Total number of votes received by each candidate
candidate_votes = data.groupby('Candidat')['nbVoix'].sum().sort_values(ascending=False)

plt.figure(figsize=(12, 8))
sns.barplot(x=candidate_votes.values, y=candidate_votes.index, palette="viridis")
plt.title('Total Votes Received by Each Candidate')
plt.xlabel('Number of Votes')
plt.ylabel('Candidate')
plt.show()

# Visualization 2: Voter turnout by region
data['Turnout'] = data['nbVotant'] / data['NbInscrits'] * 100
region_turnout = data.groupby('Wilaya')['Turnout'].mean()

plt.figure(figsize=(12, 8))
sns.barplot(x=region_turnout.values, y=region_turnout.index, palette="mako")
plt.title('Average Voter Turnout by Region (%)')
plt.xlabel('Voter Turnout (%)')
plt.ylabel('Region')
plt.show()

# Visualization 3: Distribution of null and neutral votes as a percentage of total votes
data['NullVotesPct'] = data['nbVoteNull'] / data['nbVotant'] * 100
data['NeutralVotesPct'] = data['nbVoteNeutre'] / data['nbVotant'] * 100
null_neutral_votes_pct = data.groupby('Wilaya')[['NullVotesPct', 'NeutralVotesPct']].mean()

plt.figure(figsize=(12, 8))
null_neutral_votes_pct.plot(kind='bar', color=['red', 'blue'], alpha=0.75, figsize=(12, 8))
plt.title('Percentage of Null and Neutral Votes by Region')
plt.ylabel('Percentage (%)')
plt.xlabel('Region')
plt.legend(['Null Votes (%)', 'Neutral Votes (%)'])
plt.xticks(rotation=45)
plt.tight_layout()
plt.show()



# Visualization 4: Candidate Performance by Region
# Pivot table to sum votes by candidate and region
candidate_region_performance = data.pivot_table(values='nbVoix', index='Candidat', columns='Wilaya', aggfunc='sum', fill_value=0)

# Plotting
plt.figure(figsize=(14, 10))
sns.heatmap(candidate_region_performance, annot=True, cmap='coolwarm', fmt="d")
plt.title('Candidate Performance by Region')
plt.ylabel('Candidate')
plt.xlabel('Region')
plt.xticks(rotation=45)
plt.tight_layout()
plt.show()

# Visualization 5: Turnout and Voting Patterns by Size of Electorate
# Calculating average turnout and average votes per candidate per size of electorate in each commune
commune_size_turnout = data.groupby('Commune').agg({
    'NbInscrits': 'mean',  # Average size of electorate
    'Turnout': 'mean',  # Average turnout
    'nbVoix': 'mean'  # Average votes per candidate
}).reset_index()

# Scatter plot for Turnout vs. Electorate Size
plt.figure(figsize=(12, 6))
sns.scatterplot(data=commune_size_turnout, x='NbInscrits', y='Turnout', size='nbVoix', sizes=(20, 200), alpha=0.5, palette='magma')
plt.title('Turnout and Voting Patterns by Size of Electorate')
plt.xlabel('Average Size of Electorate (Commune)')
plt.ylabel('Average Voter Turnout (%)')
plt.grid(True)
plt.show()



# Attempting to plot the heatmap for Candidate Performance by Region again
plt.figure(figsize=(14, 10))
sns.heatmap(candidate_region_performance, annot=True, cmap='coolwarm', fmt="d")
plt.title('Candidate Performance by Region')
plt.ylabel('Candidate')
plt.xlabel('Region')
plt.xticks(rotation=45)
plt.tight_layout()
plt.show()







